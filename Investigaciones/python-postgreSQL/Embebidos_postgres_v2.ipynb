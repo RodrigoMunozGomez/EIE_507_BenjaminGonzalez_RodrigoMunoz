{
 "cells": [
  {
   "attachments": {},
   "cell_type": "markdown",
   "metadata": {},
   "source": [
    "# Postgres Link python OOP"
   ]
  },
  {
   "cell_type": "code",
   "execution_count": 32,
   "metadata": {},
   "outputs": [],
   "source": [
    "#--------------------#\n",
    "# Librerias #\n",
    "import psycopg2\n",
    "\n",
    "#--------------------#\n",
    "      # Clase #\n",
    "class postgres():\n",
    "    #--------------------#\n",
    "            # Init #\n",
    "    def __init__(self, host, port, database, user, password):\n",
    "        self.conn = psycopg2.connect(\n",
    "                    host = host,\n",
    "                    port = port, \n",
    "                    database = database, \n",
    "                    user = user, \n",
    "                    password = password)    \n",
    "        self.cursor = self.conn.cursor()\n",
    "    #--------------------#\n",
    "       # Crear Tabla #\n",
    "    def make_table(self, table_name, columns_names_types):\n",
    "        self.cursor.execute(f\"CREATE TABLE {table_name} ({columns_names_types})\")\n",
    "        print(f\"Tabla ({table_name}) Creada ...\")\n",
    "    #--------------------#\n",
    "      # Crear Columna #\n",
    "    def make_column(self, table_name, Columns_names_types):\n",
    "        self.cursor.execute(f\"ALTER TABLE {table_name} ADD {Columns_names_types}\")\n",
    "        print(f\"Columnas {Columns_names_types} añadidas a Tabla {table_name}\")\n",
    "    #--------------------#\n",
    "     # Extraer de Tabla #        \n",
    "    def extract_from_table(self, table, id_name = \"\", id_number = \"\", order = False, order_parameter = \"\" ,showOne = False):\n",
    "        if  id_name != \"\" and id_number != \"\":\n",
    "            parameter = \" WHERE \" + id_name + \" = \" +id_number\n",
    "        else: parameter = \"\"\n",
    "        if showOne == True:\n",
    "            self.cursor.execute(f\"SELECT * FROM {table} {parameter}\")\n",
    "            return self.cursor.fetchone()\n",
    "        else:\n",
    "            if order == True:    \n",
    "                order = f\" ORDER BY {id_name} {order_parameter}\"\n",
    "            else: order = \"\"\n",
    "            self.cursor.execute(f\"SELECT * FROM {table}{order}\")\n",
    "            return self.cursor.fetchall()\n",
    "    #--------------------#\n",
    "    # Insertar a columna #\n",
    "    def insert_into_table(self, table_name, table_columns, values):\n",
    "        self.cursor.execute(\"INSERT INTO {} ({}) VALUES ({})\".format(table_name,table_columns, values))\n",
    "        print(f\"se inserto {values} en {table_columns}\")\n",
    "    #--------------------#\n",
    "        #   Join   #\n",
    "    def join_tables(self, table_1, table_2, column_1, column_2):\n",
    "        print(f\"JOIN {table_1} con {table_2}\")\n",
    "    #--------------------#\n",
    "    #  Mandar un comando #     \n",
    "    def send_command(self, conmand, showone = False, extract = False):\n",
    "        self.cursor.execute(conmand)\n",
    "        if showone == True:\n",
    "            if extract == True: return self.cursor.fetchone()\n",
    "            else: print(self.cursor.fetchone())\n",
    "        else:\n",
    "            if extract == True: return self.cursor.fetchall()\n",
    "            else: print(self.cursor.fetchall())\n",
    "    #--------------------#\n",
    "       # Desconectarse #\n",
    "    def disconnect(self,save = False):\n",
    "        if save == True:\n",
    "            self.cursor.commit()\n",
    "            print(\"Cambios Guardados.\")\n",
    "        self.cursor.close()\n",
    "        self.conn.close()\n",
    "        print(\"Desconectado.\")"
   ]
  },
  {
   "attachments": {},
   "cell_type": "markdown",
   "metadata": {},
   "source": [
    "### Inicio"
   ]
  },
  {
   "cell_type": "code",
   "execution_count": 33,
   "metadata": {},
   "outputs": [],
   "source": [
    "postgres = postgres(\"localhost\", \"8080\", \"biblioteca\", \"postgres\", \"14311431aA\")"
   ]
  },
  {
   "attachments": {},
   "cell_type": "markdown",
   "metadata": {},
   "source": [
    "### Crear Tabla"
   ]
  },
  {
   "cell_type": "code",
   "execution_count": 34,
   "metadata": {},
   "outputs": [
    {
     "name": "stdout",
     "output_type": "stream",
     "text": [
      "Tabla (musica) Creada ...\n"
     ]
    }
   ],
   "source": [
    "postgres.make_table(\"musica\", \"song VARCHAR(50)\")"
   ]
  },
  {
   "attachments": {},
   "cell_type": "markdown",
   "metadata": {},
   "source": [
    "### Crear Columna"
   ]
  },
  {
   "cell_type": "code",
   "execution_count": 35,
   "metadata": {},
   "outputs": [
    {
     "name": "stdout",
     "output_type": "stream",
     "text": [
      "Columnas time VARCHAR(50) añadidas a Tabla musica\n"
     ]
    }
   ],
   "source": [
    "postgres.make_column(\"musica\", \"time VARCHAR(50)\")"
   ]
  },
  {
   "attachments": {},
   "cell_type": "markdown",
   "metadata": {},
   "source": [
    "### Insertar a columna"
   ]
  },
  {
   "cell_type": "code",
   "execution_count": 36,
   "metadata": {},
   "outputs": [
    {
     "name": "stdout",
     "output_type": "stream",
     "text": [
      "se inserto 'piña colada song','3:30' en song, time\n"
     ]
    }
   ],
   "source": [
    "postgres.insert_into_table( \"musica\" , \"song, time\" ,\"'piña colada song','3:30'\")"
   ]
  },
  {
   "attachments": {},
   "cell_type": "markdown",
   "metadata": {},
   "source": [
    "### Extraer de Tabla"
   ]
  },
  {
   "cell_type": "code",
   "execution_count": 38,
   "metadata": {},
   "outputs": [
    {
     "name": "stdout",
     "output_type": "stream",
     "text": [
      "('piña colada song', '3:30')\n"
     ]
    }
   ],
   "source": [
    "extract = postgres.extract_from_table(\"musica\")\n",
    "for n in range(0, len(extract)): print(extract[n])"
   ]
  },
  {
   "attachments": {},
   "cell_type": "markdown",
   "metadata": {},
   "source": [
    "### Join"
   ]
  },
  {
   "cell_type": "code",
   "execution_count": null,
   "metadata": {},
   "outputs": [],
   "source": []
  },
  {
   "attachments": {},
   "cell_type": "markdown",
   "metadata": {},
   "source": [
    "### Mandar Comando "
   ]
  },
  {
   "cell_type": "code",
   "execution_count": null,
   "metadata": {},
   "outputs": [],
   "source": []
  },
  {
   "attachments": {},
   "cell_type": "markdown",
   "metadata": {},
   "source": [
    "### Desconectarse "
   ]
  },
  {
   "cell_type": "code",
   "execution_count": 31,
   "metadata": {},
   "outputs": [
    {
     "name": "stdout",
     "output_type": "stream",
     "text": [
      "Desconectado.\n"
     ]
    }
   ],
   "source": [
    "postgres.disconnect()"
   ]
  },
  {
   "cell_type": "code",
   "execution_count": null,
   "metadata": {},
   "outputs": [],
   "source": []
  }
 ],
 "metadata": {
  "kernelspec": {
   "display_name": "Embebidos",
   "language": "python",
   "name": "python3"
  },
  "language_info": {
   "codemirror_mode": {
    "name": "ipython",
    "version": 3
   },
   "file_extension": ".py",
   "mimetype": "text/x-python",
   "name": "python",
   "nbconvert_exporter": "python",
   "pygments_lexer": "ipython3",
   "version": "3.11.3"
  },
  "orig_nbformat": 4
 },
 "nbformat": 4,
 "nbformat_minor": 2
}
